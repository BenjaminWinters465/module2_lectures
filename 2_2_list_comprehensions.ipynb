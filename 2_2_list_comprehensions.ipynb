{
  "nbformat": 4,
  "nbformat_minor": 0,
  "metadata": {
    "anaconda-cloud": {},
    "kernelspec": {
      "display_name": "Python 3",
      "language": "python",
      "name": "python3"
    },
    "language_info": {
      "codemirror_mode": {
        "name": "ipython",
        "version": 3
      },
      "file_extension": ".py",
      "mimetype": "text/x-python",
      "name": "python",
      "nbconvert_exporter": "python",
      "pygments_lexer": "ipython3",
      "version": "3.7.2"
    },
    "colab": {
      "name": "2_2_list_comprehensions.ipynb",
      "provenance": [],
      "include_colab_link": true
    }
  },
  "cells": [
    {
      "cell_type": "markdown",
      "metadata": {
        "id": "view-in-github",
        "colab_type": "text"
      },
      "source": [
        "<a href=\"https://colab.research.google.com/github/BenjaminWinters465/module2_lectures/blob/master/2_2_list_comprehensions.ipynb\" target=\"_parent\"><img src=\"https://colab.research.google.com/assets/colab-badge.svg\" alt=\"Open In Colab\"/></a>"
      ]
    },
    {
      "cell_type": "markdown",
      "metadata": {
        "id": "EQZEcvysv7z5",
        "colab_type": "text"
      },
      "source": [
        "# List Comprehensions\n",
        "\n",
        "## Objectives\n",
        "\n",
        "1. Understand the list comprehension syntax\n",
        "2. Demonstrate list processing with comprehensions\n",
        "3. Use list comprehensions in probability simulations"
      ]
    },
    {
      "cell_type": "markdown",
      "metadata": {
        "collapsed": true,
        "id": "jqK58wORv7z-",
        "colab_type": "text"
      },
      "source": [
        "## List Comprehension\n",
        "\n",
        "* Expression for constructing list\n",
        "* Returns a new list\n",
        "* Reads like math\n",
        "    * Set builder notation"
      ]
    },
    {
      "cell_type": "code",
      "metadata": {
        "id": "KS-2GukEv70E",
        "colab_type": "code",
        "colab": {},
        "outputId": "976c5a1d-dc90-4920-fd83-162a8b2d45fe"
      },
      "source": [
        "mylist = [1,2,3,4,5]\n",
        "yourlist = [item ** 2 for item in mylist]\n",
        "yourlist"
      ],
      "execution_count": null,
      "outputs": [
        {
          "output_type": "execute_result",
          "data": {
            "text/plain": [
              "[1, 4, 9, 16, 25]"
            ]
          },
          "metadata": {
            "tags": []
          },
          "execution_count": 1
        }
      ]
    },
    {
      "cell_type": "markdown",
      "metadata": {
        "id": "YcSpj451v70n",
        "colab_type": "text"
      },
      "source": [
        "## Building a Comprehension\n",
        "\n",
        "\n",
        "    \n",
        "<img src=\"https://github.com/wsu-stat489/USCOTS2017_workshop/blob/master/img/listComprehensions.gif?raw=true\">"
      ]
    },
    {
      "cell_type": "markdown",
      "metadata": {
        "id": "wvFYA8bkv70s",
        "colab_type": "text"
      },
      "source": [
        "## Building a List Comprehension\n",
        "\n",
        "1. Begin with an empty shell\n",
        "\n",
        "2. Insert the input sequence\n",
        "\n",
        "3. Give the elements a name"
      ]
    },
    {
      "cell_type": "markdown",
      "metadata": {
        "id": "5ThZa3M9v70w",
        "colab_type": "text"
      },
      "source": [
        "`L = [   for    in       ]`"
      ]
    },
    {
      "cell_type": "markdown",
      "metadata": {
        "id": "VCCRJ1dev700",
        "colab_type": "text"
      },
      "source": [
        "`L = [    for     in range(10)]`"
      ]
    },
    {
      "cell_type": "markdown",
      "metadata": {
        "id": "tLBzGaB2v703",
        "colab_type": "text"
      },
      "source": [
        "`L = [    for num in range(10)]`"
      ]
    },
    {
      "cell_type": "code",
      "metadata": {
        "id": "RhU9pgrSv705",
        "colab_type": "code",
        "colab": {},
        "outputId": "0307e6c8-20d3-40a8-8b97-4efbdf2edf6d"
      },
      "source": [
        "L = [num + 2 for num in range(10)]\n",
        "L"
      ],
      "execution_count": null,
      "outputs": [
        {
          "output_type": "execute_result",
          "data": {
            "text/plain": [
              "[2, 3, 4, 5, 6, 7, 8, 9, 10, 11]"
            ]
          },
          "metadata": {
            "tags": []
          },
          "execution_count": 2
        }
      ]
    },
    {
      "cell_type": "markdown",
      "metadata": {
        "id": "dw3b-ADqv71P",
        "colab_type": "text"
      },
      "source": [
        "## Adding an optional filter\n",
        "\n",
        "* The if portion is optional\n",
        "* Syntax: `if boolean_cond`\n",
        "    * After input sequence\n",
        "* Only keeps value for which the condition is `True`"
      ]
    },
    {
      "cell_type": "code",
      "metadata": {
        "id": "-w64NdeUv71T",
        "colab_type": "code",
        "colab": {},
        "outputId": "1c500ba5-d575-450d-82e7-4b6fe28647b2"
      },
      "source": [
        "L = [num + 2 for num in range(10) if num % 2 == 1]\n",
        "L"
      ],
      "execution_count": null,
      "outputs": [
        {
          "output_type": "execute_result",
          "data": {
            "text/plain": [
              "[3, 5, 7, 9, 11]"
            ]
          },
          "metadata": {
            "tags": []
          },
          "execution_count": 3
        }
      ]
    },
    {
      "cell_type": "markdown",
      "metadata": {
        "id": "O6-gEHuEv71m",
        "colab_type": "text"
      },
      "source": [
        "### <font color='red'> Exercise 1 </font>\n",
        "\n",
        "Write a list comprehension that contains the squares for the numbers between 0 and 20 (inclusive).  **Hint:** Start with a `range`"
      ]
    },
    {
      "cell_type": "code",
      "metadata": {
        "id": "aznnL5_Gv71p",
        "colab_type": "code",
        "colab": {
          "base_uri": "https://localhost:8080/",
          "height": 399
        },
        "outputId": "04ff55d3-1571-4ab0-b194-0705dd2b3fd5"
      },
      "source": [
        "M = range(21)\n",
        "N = [num ** 2 for num in M]\n",
        "N"
      ],
      "execution_count": null,
      "outputs": [
        {
          "output_type": "execute_result",
          "data": {
            "text/plain": [
              "[0,\n",
              " 1,\n",
              " 4,\n",
              " 9,\n",
              " 16,\n",
              " 25,\n",
              " 36,\n",
              " 49,\n",
              " 64,\n",
              " 81,\n",
              " 100,\n",
              " 121,\n",
              " 144,\n",
              " 169,\n",
              " 196,\n",
              " 225,\n",
              " 256,\n",
              " 289,\n",
              " 324,\n",
              " 361,\n",
              " 400]"
            ]
          },
          "metadata": {
            "tags": []
          },
          "execution_count": 1
        }
      ]
    },
    {
      "cell_type": "markdown",
      "metadata": {
        "id": "wbhMYlM_v717",
        "colab_type": "text"
      },
      "source": [
        "### <font color='red'> Exercise 2 </font>\n",
        "\n",
        "Write a list comprehension that contains all perfect squares less than 555.  **Hint:** Use a large range and a filter."
      ]
    },
    {
      "cell_type": "code",
      "metadata": {
        "id": "cUs-AD7pv71_",
        "colab_type": "code",
        "colab": {
          "base_uri": "https://localhost:8080/",
          "height": 453
        },
        "outputId": "8692d1bd-43dd-4b6c-f48b-8dedd32d944b"
      },
      "source": [
        "M = range(500)\n",
        "N = [num ** 2 for num in M if num ** 2 < 555]\n",
        "N"
      ],
      "execution_count": null,
      "outputs": [
        {
          "output_type": "execute_result",
          "data": {
            "text/plain": [
              "[0,\n",
              " 1,\n",
              " 4,\n",
              " 9,\n",
              " 16,\n",
              " 25,\n",
              " 36,\n",
              " 49,\n",
              " 64,\n",
              " 81,\n",
              " 100,\n",
              " 121,\n",
              " 144,\n",
              " 169,\n",
              " 196,\n",
              " 225,\n",
              " 256,\n",
              " 289,\n",
              " 324,\n",
              " 361,\n",
              " 400,\n",
              " 441,\n",
              " 484,\n",
              " 529]"
            ]
          },
          "metadata": {
            "tags": []
          },
          "execution_count": 9
        }
      ]
    },
    {
      "cell_type": "markdown",
      "metadata": {
        "id": "ghwSTI20v72Q",
        "colab_type": "text"
      },
      "source": [
        "## Splitting and processing string\n",
        "\n",
        "* Use `split` to cut a string into a list of strings\n",
        "* Use a comprehension to process the list."
      ]
    },
    {
      "cell_type": "code",
      "metadata": {
        "id": "v97v-Z-Wv72S",
        "colab_type": "code",
        "colab": {
          "base_uri": "https://localhost:8080/",
          "height": 308
        },
        "outputId": "a9cdad0f-f804-4ba1-a670-db8695b35e0b"
      },
      "source": [
        "quote = \"Don't judge each day by the harvest you reap but by the seeds that you plant.\"\n",
        "quote.split(\" \")"
      ],
      "execution_count": 8,
      "outputs": [
        {
          "output_type": "execute_result",
          "data": {
            "text/plain": [
              "[\"Don't\",\n",
              " 'judge',\n",
              " 'each',\n",
              " 'day',\n",
              " 'by',\n",
              " 'the',\n",
              " 'harvest',\n",
              " 'you',\n",
              " 'reap',\n",
              " 'but',\n",
              " 'by',\n",
              " 'the',\n",
              " 'seeds',\n",
              " 'that',\n",
              " 'you',\n",
              " 'plant.']"
            ]
          },
          "metadata": {
            "tags": []
          },
          "execution_count": 8
        }
      ]
    },
    {
      "cell_type": "code",
      "metadata": {
        "id": "x8XvuuILv72g",
        "colab_type": "code",
        "colab": {
          "base_uri": "https://localhost:8080/",
          "height": 35
        },
        "outputId": "3f9e313d-4d93-4c79-80da-07d19754f137"
      },
      "source": [
        "Y = [len(word) for word in quote.split(\" \")]\n",
        "Y"
      ],
      "execution_count": null,
      "outputs": [
        {
          "output_type": "execute_result",
          "data": {
            "text/plain": [
              "[5, 5, 4, 3, 2, 3, 7, 3, 4, 3, 2, 3, 5, 4, 3, 6]"
            ]
          },
          "metadata": {
            "tags": []
          },
          "execution_count": 12
        }
      ]
    },
    {
      "cell_type": "markdown",
      "metadata": {
        "id": "jjEf8xaiv721",
        "colab_type": "text"
      },
      "source": [
        "### <font color='red'> Exercise 3 </font>\n",
        "\n",
        "Write a list comprehension that grabs the last two letter of each word.  **Hint:** Use the slice operation!"
      ]
    },
    {
      "cell_type": "code",
      "metadata": {
        "id": "WPDbI2Vov726",
        "colab_type": "code",
        "colab": {
          "base_uri": "https://localhost:8080/",
          "height": 308
        },
        "outputId": "62c51fc8-1918-4e31-c0f2-ff0bfd8d52c1"
      },
      "source": [
        "Z = [word[-2:] for word in quote.split(\" \")]\n",
        "Z"
      ],
      "execution_count": 9,
      "outputs": [
        {
          "output_type": "execute_result",
          "data": {
            "text/plain": [
              "[\"'t\",\n",
              " 'ge',\n",
              " 'ch',\n",
              " 'ay',\n",
              " 'by',\n",
              " 'he',\n",
              " 'st',\n",
              " 'ou',\n",
              " 'ap',\n",
              " 'ut',\n",
              " 'by',\n",
              " 'he',\n",
              " 'ds',\n",
              " 'at',\n",
              " 'ou',\n",
              " 't.']"
            ]
          },
          "metadata": {
            "tags": []
          },
          "execution_count": 9
        }
      ]
    },
    {
      "cell_type": "markdown",
      "metadata": {
        "id": "aKAAx7pKv73L",
        "colab_type": "text"
      },
      "source": [
        "### <font color='red'> Exercise 4 </font>\n",
        "\n",
        "Write a list comprehension that contains all words that have at least 4 characters. "
      ]
    },
    {
      "cell_type": "code",
      "metadata": {
        "id": "w380Y4Ilv73P",
        "colab_type": "code",
        "colab": {
          "base_uri": "https://localhost:8080/",
          "height": 35
        },
        "outputId": "bde1589d-c549-4746-ccbb-74c8a30d7fd7"
      },
      "source": [
        "A = [word for word in quote.split(\" \") if len(word) >= 4]\n",
        "A"
      ],
      "execution_count": 11,
      "outputs": [
        {
          "output_type": "execute_result",
          "data": {
            "text/plain": [
              "[\"Don't\", 'judge', 'each', 'harvest', 'reap', 'seeds', 'that', 'plant.']"
            ]
          },
          "metadata": {
            "tags": []
          },
          "execution_count": 11
        }
      ]
    },
    {
      "cell_type": "markdown",
      "metadata": {
        "id": "FQsq5yNxv73d",
        "colab_type": "text"
      },
      "source": [
        "### Comprehensions work on any input sequence"
      ]
    },
    {
      "cell_type": "code",
      "metadata": {
        "id": "coYQosy7v73f",
        "colab_type": "code",
        "colab": {},
        "outputId": "680f9d11-9a17-4c73-9fae-8e6fd515888c"
      },
      "source": [
        "# On string - gives list of characters\n",
        "[ch for ch in \"Todd Iverson\"]"
      ],
      "execution_count": null,
      "outputs": [
        {
          "output_type": "execute_result",
          "data": {
            "text/plain": [
              "['T', 'o', 'd', 'd', ' ', 'I', 'v', 'e', 'r', 's', 'o', 'n']"
            ]
          },
          "metadata": {
            "tags": []
          },
          "execution_count": 4
        }
      ]
    },
    {
      "cell_type": "code",
      "metadata": {
        "id": "g9VYcS8dv73x",
        "colab_type": "code",
        "colab": {},
        "outputId": "2b1186df-0eca-47c0-84c1-691099245c38"
      },
      "source": [
        "# On tuple - converts to list\n",
        "[item for item in (1,2,3)]"
      ],
      "execution_count": null,
      "outputs": [
        {
          "output_type": "execute_result",
          "data": {
            "text/plain": [
              "[1, 2, 3]"
            ]
          },
          "metadata": {
            "tags": []
          },
          "execution_count": 5
        }
      ]
    },
    {
      "cell_type": "code",
      "metadata": {
        "id": "InA97iVfv73_",
        "colab_type": "code",
        "colab": {},
        "outputId": "a50154e7-f9fc-4cf2-87a6-c133021c3d0a"
      },
      "source": [
        "# On a lazy sequence\n",
        "[tup for tup in enumerate([\"a\", \"b\", \"c\"])]"
      ],
      "execution_count": null,
      "outputs": [
        {
          "output_type": "execute_result",
          "data": {
            "text/plain": [
              "[(0, 'a'), (1, 'b'), (2, 'c')]"
            ]
          },
          "metadata": {
            "tags": []
          },
          "execution_count": 6
        }
      ]
    },
    {
      "cell_type": "markdown",
      "metadata": {
        "id": "DE2Wwnv0v74T",
        "colab_type": "text"
      },
      "source": [
        "## Writing Clean Code\n",
        "### Using helper functions\n",
        "\n",
        "* **Clean Code Rule 1:** Use helper functions to hide complexity"
      ]
    },
    {
      "cell_type": "code",
      "metadata": {
        "id": "F2OwwCSQv74V",
        "colab_type": "code",
        "colab": {},
        "outputId": "86098d2f-e55e-4b6c-f13b-2638dac0909e"
      },
      "source": [
        "# Original comprehension\n",
        "[x**(1/3) for x in range(5) if x %2 == 1]"
      ],
      "execution_count": null,
      "outputs": [
        {
          "output_type": "execute_result",
          "data": {
            "text/plain": [
              "[1.0, 1.4422495703074083]"
            ]
          },
          "metadata": {
            "tags": []
          },
          "execution_count": 2
        }
      ]
    },
    {
      "cell_type": "markdown",
      "metadata": {
        "id": "Y9j3ZTGmv74i",
        "colab_type": "text"
      },
      "source": [
        "## Which is easier to read?"
      ]
    },
    {
      "cell_type": "code",
      "metadata": {
        "id": "OKW5c8pIv74j",
        "colab_type": "code",
        "colab": {},
        "outputId": "ff581ac3-5f56-4d9f-87d4-ed73e4df650b"
      },
      "source": [
        "[x**(1/3) for x in range(5) if x %2 == 1]\n",
        "[cube_root(x) for x in range(5) if is_odd(x)]"
      ],
      "execution_count": null,
      "outputs": [
        {
          "output_type": "execute_result",
          "data": {
            "text/plain": [
              "[1.0, 1.4422495703074083]"
            ]
          },
          "metadata": {
            "tags": []
          },
          "execution_count": 40
        }
      ]
    },
    {
      "cell_type": "markdown",
      "metadata": {
        "id": "2GvaoTObv74v",
        "colab_type": "text"
      },
      "source": [
        "## Cleaning up list comprehensions\n",
        "\n",
        "1. Make a function for \n",
        "    1. the expression,\n",
        "    2. the sequence, and \n",
        "    3. the predicate\n",
        "2. Refactor by replacing code with function calls."
      ]
    },
    {
      "cell_type": "code",
      "metadata": {
        "id": "bOaxvwwSv74y",
        "colab_type": "code",
        "colab": {}
      },
      "source": [
        "# Helper functions\n",
        "is_odd = lambda x: x % 2 == 1\n",
        "cube_root = lambda x: x**(1/3)"
      ],
      "execution_count": null,
      "outputs": []
    },
    {
      "cell_type": "code",
      "metadata": {
        "scrolled": true,
        "id": "0lLudymFv749",
        "colab_type": "code",
        "colab": {},
        "outputId": "d5dd42bd-6c4e-4cc3-d09c-1587a32f4ff1"
      },
      "source": [
        "# Refactored comprehension\n",
        "[cube_root(x) for x in range(5) if is_odd(x)]"
      ],
      "execution_count": null,
      "outputs": [
        {
          "output_type": "execute_result",
          "data": {
            "text/plain": [
              "[1.0, 1.4422495703074083]"
            ]
          },
          "metadata": {
            "tags": []
          },
          "execution_count": 9
        }
      ]
    },
    {
      "cell_type": "markdown",
      "metadata": {
        "id": "mDYCKpjYv75F",
        "colab_type": "text"
      },
      "source": [
        "## Unpacking multiple items\n",
        "\n",
        "* Tuple unpacking assigns a name to each item\n",
        "* Can be use in a comprehension on a sequence of tuples"
      ]
    },
    {
      "cell_type": "code",
      "metadata": {
        "id": "zPSwua_jv75G",
        "colab_type": "code",
        "colab": {},
        "outputId": "596b2696-7910-4ac9-db64-a640040fa3c7"
      },
      "source": [
        "a, b, c = (1, 2, 3)\n",
        "b"
      ],
      "execution_count": null,
      "outputs": [
        {
          "output_type": "execute_result",
          "data": {
            "text/plain": [
              "2"
            ]
          },
          "metadata": {
            "tags": []
          },
          "execution_count": 9
        }
      ]
    },
    {
      "cell_type": "code",
      "metadata": {
        "id": "NoN46N_3v75P",
        "colab_type": "code",
        "colab": {
          "base_uri": "https://localhost:8080/",
          "height": 35
        },
        "outputId": "febe42ad-88f0-4734-92a7-a1a946286c80"
      },
      "source": [
        "l = ['a', 'b', 'c']\n",
        "m = [1, 2, 3]\n",
        "# Without unpacking\n",
        "[item for item in zip(l, m)]"
      ],
      "execution_count": 2,
      "outputs": [
        {
          "output_type": "execute_result",
          "data": {
            "text/plain": [
              "[('a', 1), ('b', 2), ('c', 3)]"
            ]
          },
          "metadata": {
            "tags": []
          },
          "execution_count": 2
        }
      ]
    },
    {
      "cell_type": "code",
      "metadata": {
        "id": "Rf81DGvbv75W",
        "colab_type": "code",
        "colab": {
          "base_uri": "https://localhost:8080/",
          "height": 35
        },
        "outputId": "673d6012-99ea-4fde-9147-dfc4ac0921a8"
      },
      "source": [
        "# with unpacking\n",
        "[letter + str(number) for letter, number in zip(l, m)]"
      ],
      "execution_count": 6,
      "outputs": [
        {
          "output_type": "execute_result",
          "data": {
            "text/plain": [
              "['a1', 'b2', 'c3']"
            ]
          },
          "metadata": {
            "tags": []
          },
          "execution_count": 6
        }
      ]
    },
    {
      "cell_type": "markdown",
      "metadata": {
        "id": "7_Jplmvqv75c",
        "colab_type": "text"
      },
      "source": [
        "## <font color=\"red\"> Exercise 5 </font>\n",
        "\n",
        "You probably learned about the normal and standard normal distribution in your introductory statistics class.  In this activity, we will build up functions to simulate these distributions using a uniform random number generator."
      ]
    },
    {
      "cell_type": "markdown",
      "metadata": {
        "id": "ouUZDK8sv75f",
        "colab_type": "text"
      },
      "source": [
        "#### Step 1 -- Transform two uniform random variates into a standard normal random variate.\n",
        "\n",
        "We will use the [Box-Mueller transformation](https://en.wikipedia.org/wiki/Box%E2%80%93Muller_transform) to simulate turn two uniform random variates (generated with `random.random`) into a single standard normal variate.  **Hint:** In particular you want to implement the formula for $Z_0$ where $U_1$ and $U_2$ are two numbers generated using `random.random`.\n",
        "\n",
        "**Task:** Write a function called `std_norm_variate` that generates a single random normal variate."
      ]
    },
    {
      "cell_type": "code",
      "metadata": {
        "id": "u0JXFjg3v75g",
        "colab_type": "code",
        "colab": {}
      },
      "source": [
        ""
      ],
      "execution_count": null,
      "outputs": []
    },
    {
      "cell_type": "markdown",
      "metadata": {
        "id": "sVn3sa7_v75o",
        "colab_type": "text"
      },
      "source": [
        "#### Step 2 -- Create function that generates many standard normal variates.\n",
        "\n",
        "Now use a list comprehension to create a function called `std_norm_variates` that has one argument `n` and returns `n` simulated random normal trials."
      ]
    },
    {
      "cell_type": "code",
      "metadata": {
        "id": "EAKja6Qyv75v",
        "colab_type": "code",
        "colab": {}
      },
      "source": [
        ""
      ],
      "execution_count": null,
      "outputs": []
    },
    {
      "cell_type": "markdown",
      "metadata": {
        "id": "wBQ9JDI4v753",
        "colab_type": "text"
      },
      "source": [
        "#### Step 3 -- Transform a standard normal variate into a given normal variate.\n",
        "\n",
        "Suppose that `Z` is a standard normal variate and we want to simulate $X~Norm(\\mu, \\sigma)$.  It can be shown that applying the following transformation will result in the desired distribution.\n",
        "\n",
        "$$ X = \\mu + Z\\sigma $$\n",
        "\n",
        "Write a function called `norm_variate` that takes `mean` and `sd` as arguments and returns a normal variate from a distribution with this mean and standard deviation."
      ]
    },
    {
      "cell_type": "code",
      "metadata": {
        "id": "3qyv6Rxdv755",
        "colab_type": "code",
        "colab": {}
      },
      "source": [
        ""
      ],
      "execution_count": null,
      "outputs": []
    },
    {
      "cell_type": "markdown",
      "metadata": {
        "id": "pW0ksl8vv76B",
        "colab_type": "text"
      },
      "source": [
        "#### Step 4 -- Create function that generates many standard normal variates.\n",
        "\n",
        "Now use a list comprehension to create a function called `std_norm_variates` that has one argument `n` and returns `n` simulated random normal trials."
      ]
    },
    {
      "cell_type": "code",
      "metadata": {
        "id": "LQYyygb3v76D",
        "colab_type": "code",
        "colab": {}
      },
      "source": [
        ""
      ],
      "execution_count": null,
      "outputs": []
    }
  ]
}