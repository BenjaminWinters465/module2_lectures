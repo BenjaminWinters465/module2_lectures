{
  "nbformat": 4,
  "nbformat_minor": 0,
  "metadata": {
    "celltoolbar": "Slideshow",
    "kernelspec": {
      "display_name": "Python 3",
      "language": "python",
      "name": "python3"
    },
    "language_info": {
      "codemirror_mode": {
        "name": "ipython",
        "version": 3
      },
      "file_extension": ".py",
      "mimetype": "text/x-python",
      "name": "python",
      "nbconvert_exporter": "python",
      "pygments_lexer": "ipython3",
      "version": "3.7.2"
    },
    "varInspector": {
      "cols": {
        "lenName": 16,
        "lenType": 16,
        "lenVar": 40
      },
      "kernels_config": {
        "python": {
          "delete_cmd_postfix": "",
          "delete_cmd_prefix": "del ",
          "library": "var_list.py",
          "varRefreshCmd": "print(var_dic_list())"
        },
        "r": {
          "delete_cmd_postfix": ") ",
          "delete_cmd_prefix": "rm(",
          "library": "var_list.r",
          "varRefreshCmd": "cat(var_dic_list()) "
        }
      },
      "types_to_exclude": [
        "module",
        "function",
        "builtin_function_or_method",
        "instance",
        "_Feature"
      ],
      "window_display": false
    },
    "colab": {
      "name": "1_7_introduction_to_regular_expressions.ipynb",
      "provenance": [],
      "include_colab_link": true
    }
  },
  "cells": [
    {
      "cell_type": "markdown",
      "metadata": {
        "id": "view-in-github",
        "colab_type": "text"
      },
      "source": [
        "<a href=\"https://colab.research.google.com/github/BenjaminWinters465/module2_lectures/blob/master/1_7_introduction_to_regular_expressions.ipynb\" target=\"_parent\"><img src=\"https://colab.research.google.com/assets/colab-badge.svg\" alt=\"Open In Colab\"/></a>"
      ]
    },
    {
      "cell_type": "markdown",
      "metadata": {
        "id": "kf-H9XUSpI-b",
        "colab_type": "text"
      },
      "source": [
        "## Regular Expressions\n",
        "\n",
        "<img src=\"https://imgs.xkcd.com/comics/regular_expressions.png \" width=400>"
      ]
    },
    {
      "cell_type": "markdown",
      "metadata": {
        "id": "I-miQ8l0pI-f",
        "colab_type": "text"
      },
      "source": [
        "## RegEx Golf\n",
        "\n",
        "<img src=\"https://imgs.xkcd.com/comics/regex_golf.png\" width=600>"
      ]
    },
    {
      "cell_type": "markdown",
      "metadata": {
        "id": "BwafHjASpI-p",
        "colab_type": "text"
      },
      "source": [
        "## Perl Problems\n",
        "\n",
        "    Some people, when confronted with a problem, think \"I know, I'll use regular expressions.\" Now they have two problems. - Jamie Zawinski \n",
        "<img src=\"https://imgs.xkcd.com/comics/perl_problems.png\" width=600>"
      ]
    },
    {
      "cell_type": "markdown",
      "metadata": {
        "id": "T2uBc46spI-v",
        "colab_type": "text"
      },
      "source": [
        "## <font color=\"red\"> Exercise 1 </font>\n",
        "\n",
        "**Question:** What do all of these strings have in common?\n",
        "\n",
        "* `\"ab\"`\n",
        "* `\"abab\"`\n",
        "* `\"ababcde\"`\n",
        "* `\"abcde\"`"
      ]
    },
    {
      "cell_type": "markdown",
      "metadata": {
        "id": "z995J5QipI-z",
        "colab_type": "text"
      },
      "source": [
        "begins the string with the characters \"ab\" possibly followed by something else"
      ]
    },
    {
      "cell_type": "markdown",
      "metadata": {
        "id": "zwn9r0NApI-3",
        "colab_type": "text"
      },
      "source": [
        "## <font color=\"red\"> Exercise 2 </font>\n",
        "\n",
        "**Task:** Predict the next three elements of the sequence.\n",
        "\n",
        "* `\"0\"`\n",
        "* `\"1ab\"`\n",
        "* `\"2abab\"`\n",
        "* `\"3ababab\"`\n"
      ]
    },
    {
      "cell_type": "markdown",
      "metadata": {
        "id": "Mbe89nS0pI_L",
        "colab_type": "text"
      },
      "source": [
        "\n",
        "\n",
        "*  \"4abababab\"\n",
        "*  \"5ababababab\"\n",
        "\n"
      ]
    },
    {
      "cell_type": "markdown",
      "metadata": {
        "id": "OdFnvKJ2pI_V",
        "colab_type": "text"
      },
      "source": [
        "## What is a regular expression\n",
        "\n",
        "* Language for matching regular patterns\n",
        "    * `\"ab\"`\n",
        "    * `\"abab\"`\n",
        "    * `\"ababcde\"`\n",
        "    * `\"abcde\"`\n",
        "* Can't match other, context sensitive, patterns\n",
        "    * `\"0\"`\n",
        "    * `\"1ab\"`\n",
        "    * `\"2abab\"`\n",
        "    * `\"3ababab\"`"
      ]
    },
    {
      "cell_type": "markdown",
      "metadata": {
        "id": "3gXilS5spI_a",
        "colab_type": "text"
      },
      "source": [
        "## <font color=\"red\"> Exercise 3 </font>\n",
        "\n",
        "**Tasks:** \n",
        "\n",
        "1. Go to [RegexOne](https://regexone.com/)\n",
        "2. Read the first section\n",
        "3. Define a pattern that matches the first three strings."
      ]
    },
    {
      "cell_type": "code",
      "metadata": {
        "id": "q8We_tizpI_e",
        "colab_type": "code",
        "colab": {}
      },
      "source": [
        "pattern1 = \"abc\""
      ],
      "execution_count": null,
      "outputs": []
    },
    {
      "cell_type": "markdown",
      "metadata": {
        "id": "J71KBk4-pI_w",
        "colab_type": "text"
      },
      "source": [
        "## Regular Expressions Workflow in Python\n",
        "\n",
        "* `import re`\n",
        "* Compile a pattern `regex = re.compile(pattern)`\n",
        "    * Use `r\"pattern\"` to avoid escaping symbols\n",
        "* `m = regex.match(some_string)`"
      ]
    },
    {
      "cell_type": "code",
      "metadata": {
        "id": "tJauPRJWpI_1",
        "colab_type": "code",
        "colab": {}
      },
      "source": [
        "import re"
      ],
      "execution_count": 2,
      "outputs": []
    },
    {
      "cell_type": "code",
      "metadata": {
        "id": "IBHehx6Or_AD",
        "colab_type": "code",
        "colab": {
          "base_uri": "https://localhost:8080/",
          "height": 126
        },
        "outputId": "d78eb643-b884-4a4b-b1c1-8b770b2d03cc"
      },
      "source": [
        "help(re.match)"
      ],
      "execution_count": 3,
      "outputs": [
        {
          "output_type": "stream",
          "text": [
            "Help on function match in module re:\n",
            "\n",
            "match(pattern, string, flags=0)\n",
            "    Try to apply the pattern at the start of the string, returning\n",
            "    a match object, or None if no match was found.\n",
            "\n"
          ],
          "name": "stdout"
        }
      ]
    },
    {
      "cell_type": "code",
      "metadata": {
        "id": "g0OPRIW4pJAE",
        "colab_type": "code",
        "colab": {
          "base_uri": "https://localhost:8080/",
          "height": 35
        },
        "outputId": "5d829b5c-9808-4753-b3d1-8d6a5d6bdd89"
      },
      "source": [
        "pattern = r\"ab\" # r is for raw\n",
        "regex = re.compile(pattern)\n",
        "m1 = regex.match('abc')\n",
        "m1"
      ],
      "execution_count": 15,
      "outputs": [
        {
          "output_type": "execute_result",
          "data": {
            "text/plain": [
              "<_sre.SRE_Match object; span=(0, 2), match='ab'>"
            ]
          },
          "metadata": {
            "tags": []
          },
          "execution_count": 15
        }
      ]
    },
    {
      "cell_type": "markdown",
      "metadata": {
        "id": "3Y5YfDLhpJAT",
        "colab_type": "text"
      },
      "source": [
        "## `match` returns `None` when there is no match"
      ]
    },
    {
      "cell_type": "code",
      "metadata": {
        "id": "Ifp1efzZpJAU",
        "colab_type": "code",
        "colab": {}
      },
      "source": [
        "m2 = regex.match('acb')\n",
        "m2"
      ],
      "execution_count": 16,
      "outputs": []
    },
    {
      "cell_type": "code",
      "metadata": {
        "id": "B1q-YRjMpJAl",
        "colab_type": "code",
        "colab": {},
        "outputId": "a6b42fbd-da28-4f90-b8b5-fee5e2699d6d"
      },
      "source": [
        "m2 is None"
      ],
      "execution_count": null,
      "outputs": [
        {
          "output_type": "execute_result",
          "data": {
            "text/plain": [
              "True"
            ]
          },
          "metadata": {
            "tags": []
          },
          "execution_count": 4
        }
      ]
    },
    {
      "cell_type": "code",
      "metadata": {
        "id": "06srcKRZpJAw",
        "colab_type": "code",
        "colab": {},
        "outputId": "6df895b6-07ef-4578-b087-f828d08e37bd"
      },
      "source": [
        "not m2 "
      ],
      "execution_count": null,
      "outputs": [
        {
          "output_type": "execute_result",
          "data": {
            "text/plain": [
              "True"
            ]
          },
          "metadata": {
            "tags": []
          },
          "execution_count": 5
        }
      ]
    },
    {
      "cell_type": "markdown",
      "metadata": {
        "id": "qC8vyUPLpJA6",
        "colab_type": "text"
      },
      "source": [
        "## The result of a match can be used in Boolean expressions"
      ]
    },
    {
      "cell_type": "code",
      "metadata": {
        "id": "HwxlSPTLpJA8",
        "colab_type": "code",
        "colab": {
          "base_uri": "https://localhost:8080/",
          "height": 36
        },
        "outputId": "c629e3ad-a9a4-482a-9fc9-41e3cfb7a7e8"
      },
      "source": [
        "\"Yes\" if m1 else \"No\""
      ],
      "execution_count": 17,
      "outputs": [
        {
          "output_type": "execute_result",
          "data": {
            "application/vnd.google.colaboratory.intrinsic+json": {
              "type": "string"
            },
            "text/plain": [
              "'Yes'"
            ]
          },
          "metadata": {
            "tags": []
          },
          "execution_count": 17
        }
      ]
    },
    {
      "cell_type": "code",
      "metadata": {
        "id": "RpimOJ87pJBM",
        "colab_type": "code",
        "colab": {},
        "outputId": "6108637b-f61c-43a6-f79b-e570fd3ea2d0"
      },
      "source": [
        "\"Yes\" if m2 else \"No\""
      ],
      "execution_count": null,
      "outputs": [
        {
          "output_type": "execute_result",
          "data": {
            "text/plain": [
              "'No'"
            ]
          },
          "metadata": {
            "tags": []
          },
          "execution_count": 11
        }
      ]
    },
    {
      "cell_type": "markdown",
      "metadata": {
        "id": "RE79V7aGpJBV",
        "colab_type": "text"
      },
      "source": [
        "## <font color=\"red\"> Exercise 4 </font>\n",
        "\n",
        "**Tasks:** Make sure your pattern from <font color=\"red\"> Exercise 3</font> passes the following `assert` statements."
      ]
    },
    {
      "cell_type": "code",
      "metadata": {
        "id": "b4dNQf1tpJBX",
        "colab_type": "code",
        "colab": {}
      },
      "source": [
        "pattern1 = \"abc\"\n",
        "my_regex = re.compile(pattern1)\n",
        "assert my_regex.match('abcdefg')\n",
        "assert my_regex.match('abcde')\n",
        "assert my_regex.match('abc')\n",
        "assert not my_regex.match('acb')"
      ],
      "execution_count": 5,
      "outputs": []
    },
    {
      "cell_type": "markdown",
      "metadata": {
        "id": "IGmZMRTjpJBg",
        "colab_type": "text"
      },
      "source": [
        "## Whitespace and escaped characters\n",
        "\n",
        "* Whitespace includes spaces, tabs, and newlines\n",
        "* Python uses escape characters: `\"\\t\"`, `\"\\n\"`"
      ]
    },
    {
      "cell_type": "markdown",
      "metadata": {
        "id": "8TvyNFZtpJBi",
        "colab_type": "text"
      },
      "source": [
        "#### Use `\"\\n\"` for newlines"
      ]
    },
    {
      "cell_type": "code",
      "metadata": {
        "id": "3S0N13aepJBj",
        "colab_type": "code",
        "colab": {
          "base_uri": "https://localhost:8080/",
          "height": 36
        },
        "outputId": "9b03a001-79b1-4616-9218-ff86a332b76d"
      },
      "source": [
        "\"\\n\""
      ],
      "execution_count": 6,
      "outputs": [
        {
          "output_type": "execute_result",
          "data": {
            "application/vnd.google.colaboratory.intrinsic+json": {
              "type": "string"
            },
            "text/plain": [
              "'\\n'"
            ]
          },
          "metadata": {
            "tags": []
          },
          "execution_count": 6
        }
      ]
    },
    {
      "cell_type": "code",
      "metadata": {
        "id": "x6o6ETCcpJBz",
        "colab_type": "code",
        "colab": {
          "base_uri": "https://localhost:8080/",
          "height": 53
        },
        "outputId": "ca353e48-8c5f-4bd1-d5f2-464e91c14717"
      },
      "source": [
        "print('\\n')"
      ],
      "execution_count": 7,
      "outputs": [
        {
          "output_type": "stream",
          "text": [
            "\n",
            "\n"
          ],
          "name": "stdout"
        }
      ]
    },
    {
      "cell_type": "code",
      "metadata": {
        "id": "AhdQIn5TpJB8",
        "colab_type": "code",
        "colab": {
          "base_uri": "https://localhost:8080/",
          "height": 53
        },
        "outputId": "5946fd2c-d334-4c58-86d3-d3b97d3e6f10"
      },
      "source": [
        "print('a\\nb')"
      ],
      "execution_count": 8,
      "outputs": [
        {
          "output_type": "stream",
          "text": [
            "a\n",
            "b\n"
          ],
          "name": "stdout"
        }
      ]
    },
    {
      "cell_type": "markdown",
      "metadata": {
        "id": "HZY8W5QMpJCG",
        "colab_type": "text"
      },
      "source": [
        "#### Use `\"\\t\"` for tab"
      ]
    },
    {
      "cell_type": "code",
      "metadata": {
        "id": "UV8pkXcKpJCJ",
        "colab_type": "code",
        "colab": {
          "base_uri": "https://localhost:8080/",
          "height": 36
        },
        "outputId": "1a7e8509-73e7-4999-f9d9-5f9a8eb0056d"
      },
      "source": [
        "\"\\t\""
      ],
      "execution_count": 9,
      "outputs": [
        {
          "output_type": "execute_result",
          "data": {
            "application/vnd.google.colaboratory.intrinsic+json": {
              "type": "string"
            },
            "text/plain": [
              "'\\t'"
            ]
          },
          "metadata": {
            "tags": []
          },
          "execution_count": 9
        }
      ]
    },
    {
      "cell_type": "code",
      "metadata": {
        "id": "BeyCVoJypJCT",
        "colab_type": "code",
        "colab": {},
        "outputId": "7409e566-bbe6-4eb1-f9d2-a17add7f2c70"
      },
      "source": [
        "print('\\t')"
      ],
      "execution_count": null,
      "outputs": [
        {
          "output_type": "stream",
          "text": [
            "\t\n"
          ],
          "name": "stdout"
        }
      ]
    },
    {
      "cell_type": "code",
      "metadata": {
        "id": "fFKLO-LFpJCa",
        "colab_type": "code",
        "colab": {},
        "outputId": "ed2d8fdb-cad4-44e4-95f9-37b1509b0a3d"
      },
      "source": [
        "print('a\\tb')"
      ],
      "execution_count": null,
      "outputs": [
        {
          "output_type": "stream",
          "text": [
            "a\tb\n"
          ],
          "name": "stdout"
        }
      ]
    },
    {
      "cell_type": "markdown",
      "metadata": {
        "id": "0u-oZKgOpJCl",
        "colab_type": "text"
      },
      "source": [
        "## Why use `r\"raw strings\"` in `regex`\n",
        "\n",
        "* Regular strings $\\rightarrow$ `\\` is for special characters: `'\\n'`, `'\\t'`\n",
        "* In regular expressions, `\\` is for\n",
        "    * Escaping: i.e. `\\.` vs. `.`\n",
        "* Without raw string, we would need \n",
        "    * `'\\\\n'`  to match a new line\n",
        "    * `'\\\\t'` to match a tab"
      ]
    },
    {
      "cell_type": "code",
      "metadata": {
        "id": "GGKrGV27pJCn",
        "colab_type": "code",
        "colab": {
          "base_uri": "https://localhost:8080/",
          "height": 36
        },
        "outputId": "00320cc4-5782-4043-b3d4-812d3256d485"
      },
      "source": [
        "r\"\\n\" # Raw string allow us to match newlines without the extra \\"
      ],
      "execution_count": 10,
      "outputs": [
        {
          "output_type": "execute_result",
          "data": {
            "application/vnd.google.colaboratory.intrinsic+json": {
              "type": "string"
            },
            "text/plain": [
              "'\\\\n'"
            ]
          },
          "metadata": {
            "tags": []
          },
          "execution_count": 10
        }
      ]
    },
    {
      "cell_type": "markdown",
      "metadata": {
        "id": "l2RqC1dOpJCs",
        "colab_type": "text"
      },
      "source": [
        "## Important `match object` methods\n",
        "\n",
        "<table class=\"docutils\" border=\"1\">\n",
        "<colgroup>\n",
        "<col width=\"29%\">\n",
        "<col width=\"71%\">\n",
        "</colgroup>\n",
        "<thead valign=\"bottom\">\n",
        "<tr class=\"row-odd\"><th class=\"head\">Method/Attribute</th>\n",
        "<th class=\"head\">Purpose</th>\n",
        "</tr>\n",
        "</thead>\n",
        "<tbody valign=\"top\">\n",
        "<tr class=\"row-even\"><td><code class=\"docutils literal notranslate\"><span class=\"pre\">group()</span></code></td>\n",
        "<td>Return the string matched by the RE</td>\n",
        "</tr>\n",
        "<tr class=\"row-odd\"><td><code class=\"docutils literal notranslate\"><span class=\"pre\">start()</span></code></td>\n",
        "<td>Return the starting position of the match</td>\n",
        "</tr>\n",
        "<tr class=\"row-even\"><td><code class=\"docutils literal notranslate\"><span class=\"pre\">end()</span></code></td>\n",
        "<td>Return the ending position of the match</td>\n",
        "</tr>\n",
        "<tr class=\"row-odd\"><td><code class=\"docutils literal notranslate\"><span class=\"pre\">span()</span></code></td>\n",
        "<td>Return a tuple containing the (start, end)\n",
        "positions  of the match</td>\n",
        "</tr>\n",
        "</tbody>\n",
        "</table>"
      ]
    },
    {
      "cell_type": "code",
      "metadata": {
        "id": "lVeQP8sBpJCu",
        "colab_type": "code",
        "colab": {
          "base_uri": "https://localhost:8080/",
          "height": 171
        },
        "outputId": "0d2eba5c-eb83-4c82-819c-0ef6fe09e7c0"
      },
      "source": [
        "m1.group()"
      ],
      "execution_count": 11,
      "outputs": [
        {
          "output_type": "error",
          "ename": "NameError",
          "evalue": "ignored",
          "traceback": [
            "\u001b[0;31m---------------------------------------------------------------------------\u001b[0m",
            "\u001b[0;31mNameError\u001b[0m                                 Traceback (most recent call last)",
            "\u001b[0;32m<ipython-input-11-f3143766c2d3>\u001b[0m in \u001b[0;36m<module>\u001b[0;34m()\u001b[0m\n\u001b[0;32m----> 1\u001b[0;31m \u001b[0mm1\u001b[0m\u001b[0;34m.\u001b[0m\u001b[0mgroup\u001b[0m\u001b[0;34m(\u001b[0m\u001b[0;34m)\u001b[0m\u001b[0;34m\u001b[0m\u001b[0;34m\u001b[0m\u001b[0m\n\u001b[0m",
            "\u001b[0;31mNameError\u001b[0m: name 'm1' is not defined"
          ]
        }
      ]
    },
    {
      "cell_type": "code",
      "metadata": {
        "id": "CwOvVN_EpJC2",
        "colab_type": "code",
        "colab": {},
        "outputId": "eab5d1ea-09ff-446d-eb47-fe2fe6674061"
      },
      "source": [
        "m1.start(), m.end()"
      ],
      "execution_count": null,
      "outputs": [
        {
          "output_type": "execute_result",
          "data": {
            "text/plain": [
              "(0, 2)"
            ]
          },
          "metadata": {
            "tags": []
          },
          "execution_count": 75
        }
      ]
    },
    {
      "cell_type": "code",
      "metadata": {
        "id": "OguKGcaCpJC7",
        "colab_type": "code",
        "colab": {},
        "outputId": "02be23d7-294e-459f-96b7-2ee28b68d67a"
      },
      "source": [
        "m1.span()"
      ],
      "execution_count": null,
      "outputs": [
        {
          "output_type": "execute_result",
          "data": {
            "text/plain": [
              "(0, 2)"
            ]
          },
          "metadata": {
            "tags": []
          },
          "execution_count": 80
        }
      ]
    },
    {
      "cell_type": "markdown",
      "metadata": {
        "id": "G-r9dHAEpJDC",
        "colab_type": "text"
      },
      "source": [
        "## Be sure to check for `None`"
      ]
    },
    {
      "cell_type": "code",
      "metadata": {
        "id": "JrM17W4apJDF",
        "colab_type": "code",
        "colab": {}
      },
      "source": [
        "m2 # example that DIDN'T match "
      ],
      "execution_count": 18,
      "outputs": []
    },
    {
      "cell_type": "code",
      "metadata": {
        "id": "YHdhnUfipJDN",
        "colab_type": "code",
        "colab": {},
        "outputId": "23c323a4-2cb0-4c41-e638-6e0b04e996dd"
      },
      "source": [
        "m2 is None # non-matches return None"
      ],
      "execution_count": null,
      "outputs": [
        {
          "output_type": "execute_result",
          "data": {
            "text/plain": [
              "True"
            ]
          },
          "metadata": {
            "tags": []
          },
          "execution_count": 18
        }
      ]
    },
    {
      "cell_type": "code",
      "metadata": {
        "id": "dvqUoHQxpJDY",
        "colab_type": "code",
        "colab": {},
        "outputId": "214bbb7e-aaa8-4f32-b09a-9d972d2bc4e4"
      },
      "source": [
        "m2.group() # Oh you silly 'Nonetype' errors"
      ],
      "execution_count": null,
      "outputs": [
        {
          "output_type": "error",
          "ename": "AttributeError",
          "evalue": "'NoneType' object has no attribute 'group'",
          "traceback": [
            "\u001b[0;31m---------------------------------------------------------------------------\u001b[0m",
            "\u001b[0;31mAttributeError\u001b[0m                            Traceback (most recent call last)",
            "\u001b[0;32m<ipython-input-21-0951bace4a25>\u001b[0m in \u001b[0;36m<module>\u001b[0;34m()\u001b[0m\n\u001b[0;32m----> 1\u001b[0;31m \u001b[0mm2\u001b[0m\u001b[0;34m.\u001b[0m\u001b[0mgroup\u001b[0m\u001b[0;34m(\u001b[0m\u001b[0;34m)\u001b[0m \u001b[0;31m# Oh you silly 'Nonetype' errors\u001b[0m\u001b[0;34m\u001b[0m\u001b[0m\n\u001b[0m",
            "\u001b[0;31mAttributeError\u001b[0m: 'NoneType' object has no attribute 'group'"
          ]
        }
      ]
    },
    {
      "cell_type": "markdown",
      "metadata": {
        "id": "exq-afrLpJDg",
        "colab_type": "text"
      },
      "source": [
        "## Solution 1\n",
        "\n",
        "Always check for `None`"
      ]
    },
    {
      "cell_type": "code",
      "metadata": {
        "id": "jQlaG_X-pJDh",
        "colab_type": "code",
        "colab": {}
      },
      "source": [
        "m2.group() if m2 else None"
      ],
      "execution_count": null,
      "outputs": []
    },
    {
      "cell_type": "markdown",
      "metadata": {
        "id": "RsNEQteWpJDv",
        "colab_type": "text"
      },
      "source": [
        "## Solution 2\n",
        "\n",
        "Learn about the [`Maybe` monad](https://en.wikipedia.org/wiki/Monad_(functional_programming)#An_example:_Maybe). (We will tackle this in a later chapter.)"
      ]
    },
    {
      "cell_type": "markdown",
      "metadata": {
        "id": "PdG9x1lgpJDw",
        "colab_type": "text"
      },
      "source": [
        "## Python regex methods\n",
        "\n",
        "<table class=\"docutils\" border=\"1\">\n",
        "<colgroup>\n",
        "<col width=\"28%\">\n",
        "<col width=\"72%\">\n",
        "</colgroup>\n",
        "<thead valign=\"bottom\">\n",
        "<tr class=\"row-odd\"><th class=\"head\">Method/Attribute</th>\n",
        "<th class=\"head\">Purpose</th>\n",
        "</tr>\n",
        "</thead>\n",
        "<tbody valign=\"top\">\n",
        "<tr class=\"row-even\"><td><code class=\"docutils literal notranslate\"><span class=\"pre\">match()</span></code></td>\n",
        "<td>Determine if the RE matches at the beginning\n",
        "of the string.</td>\n",
        "</tr>\n",
        "<tr class=\"row-odd\"><td><code class=\"docutils literal notranslate\"><span class=\"pre\">search()</span></code></td>\n",
        "<td>Scan through a string, looking for any\n",
        "location where this RE matches.</td>\n",
        "</tr>\n",
        "<tr class=\"row-even\"><td><code class=\"docutils literal notranslate\"><span class=\"pre\">findall()</span></code></td>\n",
        "<td>Find all substrings where the RE matches, and\n",
        "returns them as a list.</td>\n",
        "</tr>\n",
        "<tr class=\"row-odd\"><td><code class=\"docutils literal notranslate\"><span class=\"pre\">finditer()</span></code></td>\n",
        "<td>Find all substrings where the RE matches, and\n",
        "returns them as an <a class=\"reference internal\" href=\"../glossary.html#term-iterator\"><span class=\"xref std std-term\">iterator</span></a>.</td>\n",
        "</tr>\n",
        "</tbody>\n",
        "</table>\n",
        "\n",
        "**Source:** [Python documentation](https://docs.python.org/3/howto/regex.html)"
      ]
    },
    {
      "cell_type": "markdown",
      "metadata": {
        "id": "JDwagX31pJDx",
        "colab_type": "text"
      },
      "source": [
        "## A better `str.replace`\n",
        "\n",
        "* Often chain many `replace` calls\n",
        "* Example `s.replace('(', '').replace(')','').replace(':', '')`\n",
        "* We can use `re.sub` to simplify."
      ]
    },
    {
      "cell_type": "code",
      "metadata": {
        "id": "WJm71dG9pJDy",
        "colab_type": "code",
        "colab": {
          "base_uri": "https://localhost:8080/",
          "height": 36
        },
        "outputId": "a174736a-c2f1-4ac4-b20d-c489ad379fb4"
      },
      "source": [
        "s = \"The string (has) some: things in (it)\"\n",
        "s.replace('(', '').replace(')','').replace(':', '')"
      ],
      "execution_count": 36,
      "outputs": [
        {
          "output_type": "execute_result",
          "data": {
            "application/vnd.google.colaboratory.intrinsic+json": {
              "type": "string"
            },
            "text/plain": [
              "'The string has some things in it'"
            ]
          },
          "metadata": {
            "tags": []
          },
          "execution_count": 36
        }
      ]
    },
    {
      "cell_type": "code",
      "metadata": {
        "id": "A0TvwNPapJD9",
        "colab_type": "code",
        "colab": {
          "base_uri": "https://localhost:8080/",
          "height": 36
        },
        "outputId": "79b3c170-1e22-4a97-a71d-bbd474e6e92e"
      },
      "source": [
        "re.sub(r\"[():]\", '', s)"
      ],
      "execution_count": 37,
      "outputs": [
        {
          "output_type": "execute_result",
          "data": {
            "application/vnd.google.colaboratory.intrinsic+json": {
              "type": "string"
            },
            "text/plain": [
              "'The string has some things in it'"
            ]
          },
          "metadata": {
            "tags": []
          },
          "execution_count": 37
        }
      ]
    },
    {
      "cell_type": "markdown",
      "metadata": {
        "id": "bX3Eghl9pJEI",
        "colab_type": "text"
      },
      "source": [
        "## Substitutions with a compiled RegEx\n",
        "\n",
        "1. Compile a pattern\n",
        "2. Use `pat.sub(new_substr, s)`"
      ]
    },
    {
      "cell_type": "code",
      "metadata": {
        "id": "rCz6nxbYpJEK",
        "colab_type": "code",
        "colab": {
          "base_uri": "https://localhost:8080/",
          "height": 36
        },
        "outputId": "22e8029c-be7c-4575-a87e-54b7aa1f0b1d"
      },
      "source": [
        "paren_or_colon = re.compile(r\"[():]\")\n",
        "paren_or_colon.sub('', s)"
      ],
      "execution_count": 21,
      "outputs": [
        {
          "output_type": "execute_result",
          "data": {
            "application/vnd.google.colaboratory.intrinsic+json": {
              "type": "string"
            },
            "text/plain": [
              "'The string has some things in it'"
            ]
          },
          "metadata": {
            "tags": []
          },
          "execution_count": 21
        }
      ]
    },
    {
      "cell_type": "markdown",
      "metadata": {
        "id": "qrzW7YMCpJEU",
        "colab_type": "text"
      },
      "source": [
        "## <font color=\"red\"> Exercise 4 </font>\n",
        "\n",
        "**Task:** Write and test a function that uses `re.sub` to remove all punctuation from a string.  **Hint:** Use the `punctuation` variable from the `string` module."
      ]
    },
    {
      "cell_type": "code",
      "metadata": {
        "colab_type": "code",
        "id": "LuSzeQGJukcn",
        "colab": {
          "base_uri": "https://localhost:8080/",
          "height": 358
        },
        "outputId": "44561042-4e7d-4de9-d82f-941a619c587e"
      },
      "source": [
        "import string\n",
        "import re\n",
        "def punctuation_remove(used_string):\n",
        "  \"\"\"removes all punctuation from a string\n",
        "\n",
        "     Args: \n",
        "        used_string: a string \n",
        "\n",
        "     Returns:\n",
        "        the string inputted minus it's punctuation\n",
        "  \"\"\"\n",
        "  output = re.sub(string.punctuation, '', used_string)\n",
        "  return output\n",
        "\n",
        "def test_punctuation_remove():\n",
        "  assert punctuation_remove('(test): [string]') == 'test string'\n",
        "test_punctuation_remove()"
      ],
      "execution_count": 3,
      "outputs": [
        {
          "output_type": "error",
          "ename": "error",
          "evalue": "ignored",
          "traceback": [
            "\u001b[0;31m---------------------------------------------------------------------------\u001b[0m",
            "\u001b[0;31merror\u001b[0m                                     Traceback (most recent call last)",
            "\u001b[0;32m<ipython-input-3-cfe825103a31>\u001b[0m in \u001b[0;36m<module>\u001b[0;34m()\u001b[0m\n\u001b[1;32m     15\u001b[0m \u001b[0;32mdef\u001b[0m \u001b[0mtest_punctuation_remove\u001b[0m\u001b[0;34m(\u001b[0m\u001b[0;34m)\u001b[0m\u001b[0;34m:\u001b[0m\u001b[0;34m\u001b[0m\u001b[0;34m\u001b[0m\u001b[0m\n\u001b[1;32m     16\u001b[0m   \u001b[0;32massert\u001b[0m \u001b[0mpunctuation_remove\u001b[0m\u001b[0;34m(\u001b[0m\u001b[0;34m'(test): [string]'\u001b[0m\u001b[0;34m)\u001b[0m \u001b[0;34m==\u001b[0m \u001b[0;34m'test string'\u001b[0m\u001b[0;34m\u001b[0m\u001b[0;34m\u001b[0m\u001b[0m\n\u001b[0;32m---> 17\u001b[0;31m \u001b[0mtest_punctuation_remove\u001b[0m\u001b[0;34m(\u001b[0m\u001b[0;34m)\u001b[0m\u001b[0;34m\u001b[0m\u001b[0;34m\u001b[0m\u001b[0m\n\u001b[0m",
            "\u001b[0;32m<ipython-input-3-cfe825103a31>\u001b[0m in \u001b[0;36mtest_punctuation_remove\u001b[0;34m()\u001b[0m\n\u001b[1;32m     14\u001b[0m \u001b[0;34m\u001b[0m\u001b[0m\n\u001b[1;32m     15\u001b[0m \u001b[0;32mdef\u001b[0m \u001b[0mtest_punctuation_remove\u001b[0m\u001b[0;34m(\u001b[0m\u001b[0;34m)\u001b[0m\u001b[0;34m:\u001b[0m\u001b[0;34m\u001b[0m\u001b[0;34m\u001b[0m\u001b[0m\n\u001b[0;32m---> 16\u001b[0;31m   \u001b[0;32massert\u001b[0m \u001b[0mpunctuation_remove\u001b[0m\u001b[0;34m(\u001b[0m\u001b[0;34m'(test): [string]'\u001b[0m\u001b[0;34m)\u001b[0m \u001b[0;34m==\u001b[0m \u001b[0;34m'test string'\u001b[0m\u001b[0;34m\u001b[0m\u001b[0;34m\u001b[0m\u001b[0m\n\u001b[0m\u001b[1;32m     17\u001b[0m \u001b[0mtest_punctuation_remove\u001b[0m\u001b[0;34m(\u001b[0m\u001b[0;34m)\u001b[0m\u001b[0;34m\u001b[0m\u001b[0;34m\u001b[0m\u001b[0m\n",
            "\u001b[0;32m<ipython-input-3-cfe825103a31>\u001b[0m in \u001b[0;36mpunctuation_remove\u001b[0;34m(used_string)\u001b[0m\n\u001b[1;32m     10\u001b[0m         \u001b[0mthe\u001b[0m \u001b[0mstring\u001b[0m \u001b[0minputted\u001b[0m \u001b[0mminus\u001b[0m \u001b[0mit\u001b[0m\u001b[0;31m'\u001b[0m\u001b[0ms\u001b[0m \u001b[0mpunctuation\u001b[0m\u001b[0;34m\u001b[0m\u001b[0;34m\u001b[0m\u001b[0m\n\u001b[1;32m     11\u001b[0m   \"\"\"\n\u001b[0;32m---> 12\u001b[0;31m   \u001b[0moutput\u001b[0m \u001b[0;34m=\u001b[0m \u001b[0mre\u001b[0m\u001b[0;34m.\u001b[0m\u001b[0msub\u001b[0m\u001b[0;34m(\u001b[0m\u001b[0mstring\u001b[0m\u001b[0;34m.\u001b[0m\u001b[0mpunctuation\u001b[0m\u001b[0;34m,\u001b[0m \u001b[0;34m''\u001b[0m\u001b[0;34m,\u001b[0m \u001b[0mused_string\u001b[0m\u001b[0;34m)\u001b[0m\u001b[0;34m\u001b[0m\u001b[0;34m\u001b[0m\u001b[0m\n\u001b[0m\u001b[1;32m     13\u001b[0m   \u001b[0;32mreturn\u001b[0m \u001b[0moutput\u001b[0m\u001b[0;34m\u001b[0m\u001b[0;34m\u001b[0m\u001b[0m\n\u001b[1;32m     14\u001b[0m \u001b[0;34m\u001b[0m\u001b[0m\n",
            "\u001b[0;32m/usr/lib/python3.6/re.py\u001b[0m in \u001b[0;36msub\u001b[0;34m(pattern, repl, string, count, flags)\u001b[0m\n\u001b[1;32m    189\u001b[0m     \u001b[0ma\u001b[0m \u001b[0mcallable\u001b[0m\u001b[0;34m,\u001b[0m \u001b[0mit\u001b[0m\u001b[0;31m'\u001b[0m\u001b[0ms\u001b[0m \u001b[0mpassed\u001b[0m \u001b[0mthe\u001b[0m \u001b[0mmatch\u001b[0m \u001b[0mobject\u001b[0m \u001b[0;32mand\u001b[0m \u001b[0mmust\u001b[0m \u001b[0;32mreturn\u001b[0m\u001b[0;34m\u001b[0m\u001b[0;34m\u001b[0m\u001b[0m\n\u001b[1;32m    190\u001b[0m     a replacement string to be used.\"\"\"\n\u001b[0;32m--> 191\u001b[0;31m     \u001b[0;32mreturn\u001b[0m \u001b[0m_compile\u001b[0m\u001b[0;34m(\u001b[0m\u001b[0mpattern\u001b[0m\u001b[0;34m,\u001b[0m \u001b[0mflags\u001b[0m\u001b[0;34m)\u001b[0m\u001b[0;34m.\u001b[0m\u001b[0msub\u001b[0m\u001b[0;34m(\u001b[0m\u001b[0mrepl\u001b[0m\u001b[0;34m,\u001b[0m \u001b[0mstring\u001b[0m\u001b[0;34m,\u001b[0m \u001b[0mcount\u001b[0m\u001b[0;34m)\u001b[0m\u001b[0;34m\u001b[0m\u001b[0;34m\u001b[0m\u001b[0m\n\u001b[0m\u001b[1;32m    192\u001b[0m \u001b[0;34m\u001b[0m\u001b[0m\n\u001b[1;32m    193\u001b[0m \u001b[0;32mdef\u001b[0m \u001b[0msubn\u001b[0m\u001b[0;34m(\u001b[0m\u001b[0mpattern\u001b[0m\u001b[0;34m,\u001b[0m \u001b[0mrepl\u001b[0m\u001b[0;34m,\u001b[0m \u001b[0mstring\u001b[0m\u001b[0;34m,\u001b[0m \u001b[0mcount\u001b[0m\u001b[0;34m=\u001b[0m\u001b[0;36m0\u001b[0m\u001b[0;34m,\u001b[0m \u001b[0mflags\u001b[0m\u001b[0;34m=\u001b[0m\u001b[0;36m0\u001b[0m\u001b[0;34m)\u001b[0m\u001b[0;34m:\u001b[0m\u001b[0;34m\u001b[0m\u001b[0;34m\u001b[0m\u001b[0m\n",
            "\u001b[0;32m/usr/lib/python3.6/re.py\u001b[0m in \u001b[0;36m_compile\u001b[0;34m(pattern, flags)\u001b[0m\n\u001b[1;32m    299\u001b[0m     \u001b[0;32mif\u001b[0m \u001b[0;32mnot\u001b[0m \u001b[0msre_compile\u001b[0m\u001b[0;34m.\u001b[0m\u001b[0misstring\u001b[0m\u001b[0;34m(\u001b[0m\u001b[0mpattern\u001b[0m\u001b[0;34m)\u001b[0m\u001b[0;34m:\u001b[0m\u001b[0;34m\u001b[0m\u001b[0;34m\u001b[0m\u001b[0m\n\u001b[1;32m    300\u001b[0m         \u001b[0;32mraise\u001b[0m \u001b[0mTypeError\u001b[0m\u001b[0;34m(\u001b[0m\u001b[0;34m\"first argument must be string or compiled pattern\"\u001b[0m\u001b[0;34m)\u001b[0m\u001b[0;34m\u001b[0m\u001b[0;34m\u001b[0m\u001b[0m\n\u001b[0;32m--> 301\u001b[0;31m     \u001b[0mp\u001b[0m \u001b[0;34m=\u001b[0m \u001b[0msre_compile\u001b[0m\u001b[0;34m.\u001b[0m\u001b[0mcompile\u001b[0m\u001b[0;34m(\u001b[0m\u001b[0mpattern\u001b[0m\u001b[0;34m,\u001b[0m \u001b[0mflags\u001b[0m\u001b[0;34m)\u001b[0m\u001b[0;34m\u001b[0m\u001b[0;34m\u001b[0m\u001b[0m\n\u001b[0m\u001b[1;32m    302\u001b[0m     \u001b[0;32mif\u001b[0m \u001b[0;32mnot\u001b[0m \u001b[0;34m(\u001b[0m\u001b[0mflags\u001b[0m \u001b[0;34m&\u001b[0m \u001b[0mDEBUG\u001b[0m\u001b[0;34m)\u001b[0m\u001b[0;34m:\u001b[0m\u001b[0;34m\u001b[0m\u001b[0;34m\u001b[0m\u001b[0m\n\u001b[1;32m    303\u001b[0m         \u001b[0;32mif\u001b[0m \u001b[0mlen\u001b[0m\u001b[0;34m(\u001b[0m\u001b[0m_cache\u001b[0m\u001b[0;34m)\u001b[0m \u001b[0;34m>=\u001b[0m \u001b[0m_MAXCACHE\u001b[0m\u001b[0;34m:\u001b[0m\u001b[0;34m\u001b[0m\u001b[0;34m\u001b[0m\u001b[0m\n",
            "\u001b[0;32m/usr/lib/python3.6/sre_compile.py\u001b[0m in \u001b[0;36mcompile\u001b[0;34m(p, flags)\u001b[0m\n\u001b[1;32m    560\u001b[0m     \u001b[0;32mif\u001b[0m \u001b[0misstring\u001b[0m\u001b[0;34m(\u001b[0m\u001b[0mp\u001b[0m\u001b[0;34m)\u001b[0m\u001b[0;34m:\u001b[0m\u001b[0;34m\u001b[0m\u001b[0;34m\u001b[0m\u001b[0m\n\u001b[1;32m    561\u001b[0m         \u001b[0mpattern\u001b[0m \u001b[0;34m=\u001b[0m \u001b[0mp\u001b[0m\u001b[0;34m\u001b[0m\u001b[0;34m\u001b[0m\u001b[0m\n\u001b[0;32m--> 562\u001b[0;31m         \u001b[0mp\u001b[0m \u001b[0;34m=\u001b[0m \u001b[0msre_parse\u001b[0m\u001b[0;34m.\u001b[0m\u001b[0mparse\u001b[0m\u001b[0;34m(\u001b[0m\u001b[0mp\u001b[0m\u001b[0;34m,\u001b[0m \u001b[0mflags\u001b[0m\u001b[0;34m)\u001b[0m\u001b[0;34m\u001b[0m\u001b[0;34m\u001b[0m\u001b[0m\n\u001b[0m\u001b[1;32m    563\u001b[0m     \u001b[0;32melse\u001b[0m\u001b[0;34m:\u001b[0m\u001b[0;34m\u001b[0m\u001b[0;34m\u001b[0m\u001b[0m\n\u001b[1;32m    564\u001b[0m         \u001b[0mpattern\u001b[0m \u001b[0;34m=\u001b[0m \u001b[0;32mNone\u001b[0m\u001b[0;34m\u001b[0m\u001b[0;34m\u001b[0m\u001b[0m\n",
            "\u001b[0;32m/usr/lib/python3.6/sre_parse.py\u001b[0m in \u001b[0;36mparse\u001b[0;34m(str, flags, pattern)\u001b[0m\n\u001b[1;32m    853\u001b[0m \u001b[0;34m\u001b[0m\u001b[0m\n\u001b[1;32m    854\u001b[0m     \u001b[0;32mtry\u001b[0m\u001b[0;34m:\u001b[0m\u001b[0;34m\u001b[0m\u001b[0;34m\u001b[0m\u001b[0m\n\u001b[0;32m--> 855\u001b[0;31m         \u001b[0mp\u001b[0m \u001b[0;34m=\u001b[0m \u001b[0m_parse_sub\u001b[0m\u001b[0;34m(\u001b[0m\u001b[0msource\u001b[0m\u001b[0;34m,\u001b[0m \u001b[0mpattern\u001b[0m\u001b[0;34m,\u001b[0m \u001b[0mflags\u001b[0m \u001b[0;34m&\u001b[0m \u001b[0mSRE_FLAG_VERBOSE\u001b[0m\u001b[0;34m,\u001b[0m \u001b[0;36m0\u001b[0m\u001b[0;34m)\u001b[0m\u001b[0;34m\u001b[0m\u001b[0;34m\u001b[0m\u001b[0m\n\u001b[0m\u001b[1;32m    856\u001b[0m     \u001b[0;32mexcept\u001b[0m \u001b[0mVerbose\u001b[0m\u001b[0;34m:\u001b[0m\u001b[0;34m\u001b[0m\u001b[0;34m\u001b[0m\u001b[0m\n\u001b[1;32m    857\u001b[0m         \u001b[0;31m# the VERBOSE flag was switched on inside the pattern.  to be\u001b[0m\u001b[0;34m\u001b[0m\u001b[0;34m\u001b[0m\u001b[0;34m\u001b[0m\u001b[0m\n",
            "\u001b[0;32m/usr/lib/python3.6/sre_parse.py\u001b[0m in \u001b[0;36m_parse_sub\u001b[0;34m(source, state, verbose, nested)\u001b[0m\n\u001b[1;32m    414\u001b[0m     \u001b[0;32mwhile\u001b[0m \u001b[0;32mTrue\u001b[0m\u001b[0;34m:\u001b[0m\u001b[0;34m\u001b[0m\u001b[0;34m\u001b[0m\u001b[0m\n\u001b[1;32m    415\u001b[0m         itemsappend(_parse(source, state, verbose, nested + 1,\n\u001b[0;32m--> 416\u001b[0;31m                            not nested and not items))\n\u001b[0m\u001b[1;32m    417\u001b[0m         \u001b[0;32mif\u001b[0m \u001b[0;32mnot\u001b[0m \u001b[0msourcematch\u001b[0m\u001b[0;34m(\u001b[0m\u001b[0;34m\"|\"\u001b[0m\u001b[0;34m)\u001b[0m\u001b[0;34m:\u001b[0m\u001b[0;34m\u001b[0m\u001b[0;34m\u001b[0m\u001b[0m\n\u001b[1;32m    418\u001b[0m             \u001b[0;32mbreak\u001b[0m\u001b[0;34m\u001b[0m\u001b[0;34m\u001b[0m\u001b[0m\n",
            "\u001b[0;32m/usr/lib/python3.6/sre_parse.py\u001b[0m in \u001b[0;36m_parse\u001b[0;34m(source, state, verbose, nested, first)\u001b[0m\n\u001b[1;32m    617\u001b[0m             \u001b[0;32mif\u001b[0m \u001b[0mitem\u001b[0m\u001b[0;34m[\u001b[0m\u001b[0;36m0\u001b[0m\u001b[0;34m]\u001b[0m\u001b[0;34m[\u001b[0m\u001b[0;36m0\u001b[0m\u001b[0;34m]\u001b[0m \u001b[0;32min\u001b[0m \u001b[0m_REPEATCODES\u001b[0m\u001b[0;34m:\u001b[0m\u001b[0;34m\u001b[0m\u001b[0;34m\u001b[0m\u001b[0m\n\u001b[1;32m    618\u001b[0m                 raise source.error(\"multiple repeat\",\n\u001b[0;32m--> 619\u001b[0;31m                                    source.tell() - here + len(this))\n\u001b[0m\u001b[1;32m    620\u001b[0m             \u001b[0;32mif\u001b[0m \u001b[0msourcematch\u001b[0m\u001b[0;34m(\u001b[0m\u001b[0;34m\"?\"\u001b[0m\u001b[0;34m)\u001b[0m\u001b[0;34m:\u001b[0m\u001b[0;34m\u001b[0m\u001b[0;34m\u001b[0m\u001b[0m\n\u001b[1;32m    621\u001b[0m                 \u001b[0msubpattern\u001b[0m\u001b[0;34m[\u001b[0m\u001b[0;34m-\u001b[0m\u001b[0;36m1\u001b[0m\u001b[0;34m]\u001b[0m \u001b[0;34m=\u001b[0m \u001b[0;34m(\u001b[0m\u001b[0mMIN_REPEAT\u001b[0m\u001b[0;34m,\u001b[0m \u001b[0;34m(\u001b[0m\u001b[0mmin\u001b[0m\u001b[0;34m,\u001b[0m \u001b[0mmax\u001b[0m\u001b[0;34m,\u001b[0m \u001b[0mitem\u001b[0m\u001b[0;34m)\u001b[0m\u001b[0;34m)\u001b[0m\u001b[0;34m\u001b[0m\u001b[0;34m\u001b[0m\u001b[0m\n",
            "\u001b[0;31merror\u001b[0m: multiple repeat at position 10"
          ]
        }
      ]
    },
    {
      "cell_type": "markdown",
      "metadata": {
        "id": "lrEuSP5ApJEd",
        "colab_type": "text"
      },
      "source": [
        "## Next Up\n",
        "\n",
        "Now you should read through the rest of [RegExOne](https://regexone.com/) and put your work in [Lab 3](./lab_3_regexone.ipynb)."
      ]
    },
    {
      "cell_type": "code",
      "metadata": {
        "id": "nqqDq3uoej7d",
        "colab_type": "code",
        "colab": {}
      },
      "source": [
        "pattern1 = \"abc\"\n",
        "my_regex = re.compile(pattern1)\n",
        "assert my_regex.match('abcdefg')\n",
        "assert my_regex.match('abcde')\n",
        "assert my_regex.match('abc')\n",
        "assert not my_regex.match('acb')"
      ],
      "execution_count": 5,
      "outputs": []
    },
    {
      "cell_type": "code",
      "metadata": {
        "id": "YV5CCtgyekc2",
        "colab_type": "code",
        "colab": {
          "base_uri": "https://localhost:8080/",
          "height": 243
        },
        "outputId": "962c7908-25fd-4fcc-98ea-aae64531e413"
      },
      "source": [
        "pattern1_5 = \"123\"\n",
        "my_regex = re.compile(r'\\dpattern')\n",
        "assert my_regex.match('abc123xyz')\n",
        "assert my_regex.match('define \"123\"')\n",
        "assert my_regex.match('var g = 123;')\n",
        "assert not my_regex.match('acb')"
      ],
      "execution_count": 75,
      "outputs": [
        {
          "output_type": "error",
          "ename": "AssertionError",
          "evalue": "ignored",
          "traceback": [
            "\u001b[0;31m---------------------------------------------------------------------------\u001b[0m",
            "\u001b[0;31mAssertionError\u001b[0m                            Traceback (most recent call last)",
            "\u001b[0;32m<ipython-input-75-f653c42dae0d>\u001b[0m in \u001b[0;36m<module>\u001b[0;34m()\u001b[0m\n\u001b[1;32m      1\u001b[0m \u001b[0mpattern1_5\u001b[0m \u001b[0;34m=\u001b[0m \u001b[0;34m\"123\"\u001b[0m\u001b[0;34m\u001b[0m\u001b[0;34m\u001b[0m\u001b[0m\n\u001b[1;32m      2\u001b[0m \u001b[0mmy_regex\u001b[0m \u001b[0;34m=\u001b[0m \u001b[0mre\u001b[0m\u001b[0;34m.\u001b[0m\u001b[0mcompile\u001b[0m\u001b[0;34m(\u001b[0m\u001b[0;34mr'\\d'\u001b[0m\u001b[0;34m)\u001b[0m\u001b[0;34m\u001b[0m\u001b[0;34m\u001b[0m\u001b[0m\n\u001b[0;32m----> 3\u001b[0;31m \u001b[0;32massert\u001b[0m \u001b[0mmy_regex\u001b[0m\u001b[0;34m.\u001b[0m\u001b[0mmatch\u001b[0m\u001b[0;34m(\u001b[0m\u001b[0;34m'abc123xyz'\u001b[0m\u001b[0;34m)\u001b[0m\u001b[0;34m\u001b[0m\u001b[0;34m\u001b[0m\u001b[0m\n\u001b[0m\u001b[1;32m      4\u001b[0m \u001b[0;32massert\u001b[0m \u001b[0mmy_regex\u001b[0m\u001b[0;34m.\u001b[0m\u001b[0mmatch\u001b[0m\u001b[0;34m(\u001b[0m\u001b[0;34m'define \"123\"'\u001b[0m\u001b[0;34m)\u001b[0m\u001b[0;34m\u001b[0m\u001b[0;34m\u001b[0m\u001b[0m\n\u001b[1;32m      5\u001b[0m \u001b[0;32massert\u001b[0m \u001b[0mmy_regex\u001b[0m\u001b[0;34m.\u001b[0m\u001b[0mmatch\u001b[0m\u001b[0;34m(\u001b[0m\u001b[0;34m'var g = 123;'\u001b[0m\u001b[0;34m)\u001b[0m\u001b[0;34m\u001b[0m\u001b[0;34m\u001b[0m\u001b[0m\n",
            "\u001b[0;31mAssertionError\u001b[0m: "
          ]
        }
      ]
    }
  ]
}